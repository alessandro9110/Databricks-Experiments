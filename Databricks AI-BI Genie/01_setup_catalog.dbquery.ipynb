{
 "cells": [
  {
   "cell_type": "code",
   "execution_count": 0,
   "metadata": {
    "application/vnd.databricks.v1+cell": {
     "cellMetadata": {},
     "inputWidgets": {},
     "nuid": "333b47ea-4b56-4a7c-b5bc-4a299c4b402d",
     "showTitle": false,
     "tableResultSettingsMap": {},
     "title": ""
    }
   },
   "outputs": [],
   "source": [
    "-- Before to run this script you need to install Simulated Retail Customer Data\n",
    "CREATE SCHEMA IF NOT EXISTS main.SimulatedRetailCustomerData COMMENT 'This schema contains the simulated retail customer data. The dataset contains three tables, customers, sales, and sales_orders, that represent the details of a fictional retail company. The source csv files are also available with this dataset. The datasets are designed to accompany the Get Started with Databricks for Data Analysis course available on Databricks Academy.';\n",
    "\n",
    "-- CREATE TABLES sales, customers\n",
    "CREATE OR REPLACE TABLE main.SimulatedRetailCustomerData.sales AS SELECT * FROM databricks_simulated_retail_customer_data.v01.sales;\n",
    "\n",
    "CREATE OR REPLACE TABLE main.SimulatedRetailCustomerData.sales_orders AS SELECT * FROM databricks_simulated_retail_customer_data.v01.sales_orders;\n",
    "\n",
    "CREATE OR REPLACE TABLE main.SimulatedRetailCustomerData.customers AS SELECT * FROM databricks_simulated_retail_customer_data.v01.customers;\n",
    "\n",
    "-- CREATE CONSTRAINT AS RELATHIONSHIP\n",
    "ALTER TABLE main.SimulatedRetailCustomerData.customers ALTER COLUMN customer_id SET NOT NULL;\n",
    "ALTER TABLE main.SimulatedRetailCustomerData.customers ADD CONSTRAINT customers_pk PRIMARY KEY (customer_id);\n",
    "\n",
    "ALTER TABLE main.SimulatedRetailCustomerData.sales_orders ADD CONSTRAINT sales_orders_fk FOREIGN KEY (customer_id) REFERENCES main.default.customers(customer_id);\n",
    "ALTER TABLE main.SimulatedRetailCustomerData.sales ADD CONSTRAINT sales_fk FOREIGN KEY (customer_id) REFERENCES main.default.customers(customer_id);\n",
    "\n",
    "-- ADD TABLE DESCRIPTIONS.\n",
    "COMMENT ON TABLE main.SimulatedRetailCustomerData.sales IS 'The table contains data related to customer orders. It includes information such as customer details, product information, order dates, and pricing. This data can be used for analyzing purchasing trends, understanding customer preferences, and evaluating product performance across different categories.';\n",
    "COMMENT ON TABLE main.SimulatedRetailCustomerData.sales_orders IS 'The table contains data related to customer orders. It includes information such as the customer ID, customer name, order number, and the date and time of the order. Additionally, it tracks the items clicked by the customer, the products ordered, and any promotional information associated with the order. This data can be used for analyzing customer purchasing behavior, evaluating the effectiveness of promotions, and understanding order patterns.';\n",
    "COMMENT ON TABLE main.SimulatedRetailCustomerData.customers IS 'The table contains customer information related to their addresses and purchasing behavior. It includes details such as customer identification, tax information, and address components like city, state, and postcode. Additionally, it tracks the validity period of the data and the number of units purchased by each customer, along with their loyalty segment. This data can be used for customer segmentation, targeted marketing efforts, and analyzing purchasing patterns.';\n",
    "\n",
    "-- ADD COLUMNS DESCRIPTIONS.\n",
    "COMMENT ON COLUMN main.SimulatedRetailCustomerData.sales.customer_id IS 'Unique identifier for each customer in the database. This is the foreing key to the customers table with primary key customer_id.';\n",
    "COMMENT ON COLUMN main.SimulatedRetailCustomerData.sales.customer_name IS 'Name of the customer who placed the order.';\n",
    "COMMENT ON COLUMN main.SimulatedRetailCustomerData.sales.product_name IS 'Name of the product purchased by the customer.';\n",
    "COMMENT ON COLUMN main.SimulatedRetailCustomerData.sales.order_date IS 'Date when the order was placed.';\n",
    "COMMENT ON COLUMN main.SimulatedRetailCustomerData.sales.product_category IS 'Category of the product purchased.';\n",
    "COMMENT ON COLUMN main.SimulatedRetailCustomerData.sales.product IS 'This column contains a JSON object with information about the products purchased including price, quantity and product_id';\n",
    "COMMENT ON COLUMN main.SimulatedRetailCustomerData.sales.total_price IS 'Total price of the order.';\n",
    "COMMENT ON COLUMN main.SimulatedRetailCustomerData.sales_orders.customer_id IS 'Unique identifier for each customer in the database. This is the foreing key to the customers table with primary key customer_id.';\n",
    "COMMENT ON COLUMN main.SimulatedRetailCustomerData.sales_orders.customer_name IS 'Name of the customer who placed the order.';\n",
    "\n",
    "\n",
    "\n",
    "\n",
    "\n",
    "\n",
    "\n",
    "\n",
    "\n",
    "\n",
    "\n",
    "\n",
    "\n",
    "\n",
    "\n",
    "\n",
    "\n",
    "\n",
    "\n",
    "\n",
    "\n",
    "\n"
   ]
  }
 ],
 "metadata": {
  "application/vnd.databricks.v1+notebook": {
   "computePreferences": null,
   "dashboards": [],
   "environmentMetadata": null,
   "inputWidgetPreferences": null,
   "language": "sql",
   "notebookMetadata": {
    "sqlQueryOptions": {
     "applyAutoLimit": true,
     "catalog": "databricks_simulated_retail_customer_data",
     "schema": "information_schema"
    }
   },
   "notebookName": "01_setup_catalog.dbquery.ipynb",
   "widgets": {}
  },
  "language_info": {
   "name": "sql"
  }
 },
 "nbformat": 4,
 "nbformat_minor": 0
}
