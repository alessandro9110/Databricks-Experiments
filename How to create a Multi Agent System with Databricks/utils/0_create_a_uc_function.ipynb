{
 "cells": [
  {
   "cell_type": "markdown",
   "metadata": {
    "application/vnd.databricks.v1+cell": {
     "cellMetadata": {},
     "inputWidgets": {},
     "nuid": "7e50ee83-b5b9-4d77-b0dc-285fd9c6fe85",
     "showTitle": false,
     "tableResultSettingsMap": {},
     "title": ""
    }
   },
   "source": [
    "### Create a UC Function-Tool\n",
    "In this notebook we will create a python function and we will save it into Unity Catalog. After we will test it "
   ]
  },
  {
   "cell_type": "code",
   "execution_count": 0,
   "metadata": {
    "application/vnd.databricks.v1+cell": {
     "cellMetadata": {},
     "inputWidgets": {},
     "nuid": "b91ba442-13d6-47c2-8a27-dde0a1df5c1b",
     "showTitle": false,
     "tableResultSettingsMap": {},
     "title": ""
    }
   },
   "outputs": [],
   "source": [
    "from unitycatalog.ai.core.databricks import DatabricksFunctionClient\n",
    "\n",
    "client = DatabricksFunctionClient()"
   ]
  },
  {
   "cell_type": "code",
   "execution_count": 0,
   "metadata": {
    "application/vnd.databricks.v1+cell": {
     "cellMetadata": {},
     "inputWidgets": {},
     "nuid": "11f36fff-8736-465f-995f-afd903a17f40",
     "showTitle": false,
     "tableResultSettingsMap": {},
     "title": ""
    }
   },
   "outputs": [],
   "source": [
    "CATALOG = \"my_catalog\"\n",
    "SCHEMA = \"my_schema\"\n",
    "\n",
    "def add_numbers(number_1: float, number_2: float) -> float:\n",
    "  \"\"\"\n",
    "  A function that accepts two floating point numbers adds them,\n",
    "  and returns the resulting sum as a float.\n",
    "\n",
    "  Args:\n",
    "    number_1 (float): The first of the two numbers to add.\n",
    "    number_2 (float): The second of the two numbers to add.\n",
    "\n",
    "  Returns:\n",
    "    float: The sum of the two input numbers.\n",
    "  \"\"\"\n",
    "  return number_1 + number_2\n",
    "\n",
    "function_info = client.create_python_function(\n",
    "  func=add_numbers,\n",
    "  catalog=CATALOG,\n",
    "  schema=SCHEMA,\n",
    "  replace=True\n",
    ")"
   ]
  },
  {
   "cell_type": "markdown",
   "metadata": {
    "application/vnd.databricks.v1+cell": {
     "cellMetadata": {},
     "inputWidgets": {},
     "nuid": "a2bd6d37-b074-465c-998c-ab79b94ea6fc",
     "showTitle": false,
     "tableResultSettingsMap": {},
     "title": ""
    }
   },
   "source": [
    "### Test Function"
   ]
  },
  {
   "cell_type": "code",
   "execution_count": 0,
   "metadata": {
    "application/vnd.databricks.v1+cell": {
     "cellMetadata": {},
     "inputWidgets": {},
     "nuid": "3764a2f4-279d-47d6-938b-462cbe2a511c",
     "showTitle": false,
     "tableResultSettingsMap": {},
     "title": ""
    }
   },
   "outputs": [],
   "source": [
    "result = client.execute_function(\n",
    "  function_name=f\"{CATALOG}.{SCHEMA}.add_numbers\",\n",
    "  parameters={\"number_1\": 36939.0, \"number_2\": 8922.4}\n",
    ")\n",
    "\n",
    "result.value"
   ]
  },
  {
   "cell_type": "markdown",
   "metadata": {
    "application/vnd.databricks.v1+cell": {
     "cellMetadata": {},
     "inputWidgets": {},
     "nuid": "5a646a66-2b71-4a52-8b61-2f1d62af11c2",
     "showTitle": false,
     "tableResultSettingsMap": {},
     "title": ""
    }
   },
   "source": [
    "###  Agent Tool\n",
    "Wrap the function using the UCFunctionToolkit to make it accessible to agent authoring libraries. The toolkit ensures consistency across different gen AI libraries and adds helpful features like auto-tracing for retrievers."
   ]
  },
  {
   "cell_type": "code",
   "execution_count": 0,
   "metadata": {
    "application/vnd.databricks.v1+cell": {
     "cellMetadata": {},
     "inputWidgets": {},
     "nuid": "d4bc85f5-487e-4478-bde5-a1c62b79d6f7",
     "showTitle": false,
     "tableResultSettingsMap": {},
     "title": ""
    }
   },
   "outputs": [],
   "source": [
    "from databricks_langchain import UCFunctionToolkit\n",
    "\n",
    "# Create a toolkit with the Unity Catalog function\n",
    "func_name = f\"{CATALOG}.{SCHEMA}.add_numbers\"\n",
    "toolkit = UCFunctionToolkit(function_names=[func_name])\n",
    "\n",
    "tools = toolkit.tools"
   ]
  }
 ],
 "metadata": {
  "application/vnd.databricks.v1+notebook": {
   "computePreferences": null,
   "dashboards": [],
   "environmentMetadata": {
    "base_environment": "",
    "environment_version": "3"
   },
   "inputWidgetPreferences": null,
   "language": "python",
   "notebookMetadata": {
    "pythonIndentUnit": 4
   },
   "notebookName": "0_create_a_uc_function",
   "widgets": {}
  },
  "language_info": {
   "name": "python"
  }
 },
 "nbformat": 4,
 "nbformat_minor": 0
}
