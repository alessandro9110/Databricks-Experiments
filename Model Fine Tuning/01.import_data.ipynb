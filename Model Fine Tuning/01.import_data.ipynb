{
 "cells": [
  {
   "cell_type": "markdown",
   "metadata": {
    "application/vnd.databricks.v1+cell": {
     "cellMetadata": {
      "byteLimit": 2048000,
      "rowLimit": 10000
     },
     "inputWidgets": {},
     "nuid": "ff36d7fe-2d48-44ed-be9e-53f3c3babe37",
     "showTitle": false,
     "tableResultSettingsMap": {},
     "title": ""
    }
   },
   "source": [
    "# Data Preparation for Fine-Tuning Transformer Model on Azure Databricks\n",
    "\n",
    "## Overview\n",
    "This notebook prepares and saves the datasets that will be used for the fine-tuning of a transformer model. The data is loaded, combined, and stored as Delta tables on Azure Databricks for subsequent machine learning workflows.\n",
    "\n",
    "## Datasets\n",
    "- **train_data.jsonl**: Training set to be used for model fine-tuning.\n",
    "- **val_data.jsonl**: Validation set for model evaluation.\n",
    "- **test_data.jsonl**: Test set for final assessment.\n",
    "\n",
    "## Author\n",
    "- Name: Alessandro Armillotta\n",
    "- Date: 09/10/2025"
   ]
  },
  {
   "cell_type": "markdown",
   "metadata": {
    "application/vnd.databricks.v1+cell": {
     "cellMetadata": {
      "byteLimit": 2048000,
      "rowLimit": 10000
     },
     "inputWidgets": {},
     "nuid": "349f7fd1-a568-4bae-8977-42946037f118",
     "showTitle": false,
     "tableResultSettingsMap": {},
     "title": ""
    }
   },
   "source": [
    "# Steps\n",
    "1. Load JSONL datasets from Azure Databricks Volumes.\n",
    "2. Combine training and test datasets and prepare the labels\n",
    "3. Save processed DataFrames as Delta tables for downstream fine-tuning tasks."
   ]
  },
  {
   "cell_type": "code",
   "execution_count": 0,
   "metadata": {
    "application/vnd.databricks.v1+cell": {
     "cellMetadata": {
      "byteLimit": 2048000,
      "rowLimit": 10000
     },
     "inputWidgets": {},
     "nuid": "866f21e3-f685-4ac9-8477-40612ed0e6f6",
     "showTitle": false,
     "tableResultSettingsMap": {},
     "title": ""
    }
   },
   "outputs": [],
   "source": [
    "from pyspark.sql import functions as F\n",
    "import pandas as pd"
   ]
  },
  {
   "cell_type": "markdown",
   "metadata": {
    "application/vnd.databricks.v1+cell": {
     "cellMetadata": {
      "byteLimit": 2048000,
      "rowLimit": 10000
     },
     "inputWidgets": {},
     "nuid": "bb60affd-8641-4db5-ba8e-8259d156b152",
     "showTitle": false,
     "tableResultSettingsMap": {},
     "title": ""
    }
   },
   "source": [
    "### Step 1: Load JSONL datasets from Azure Databricks Volumes."
   ]
  },
  {
   "cell_type": "code",
   "execution_count": 0,
   "metadata": {
    "application/vnd.databricks.v1+cell": {
     "cellMetadata": {
      "byteLimit": 2048000,
      "rowLimit": 10000
     },
     "inputWidgets": {},
     "nuid": "1a2f52da-4102-4ed7-a31e-3551d2b4f1a7",
     "showTitle": false,
     "tableResultSettingsMap": {},
     "title": ""
    }
   },
   "outputs": [],
   "source": [
    "test_data = spark.read.json(\"/Volumes/main/fine_tuning_transformer_model/files/test_data.jsonl\")\n",
    "train_data = spark.read.json(\"/Volumes/main/fine_tuning_transformer_model/files/train_data.jsonl\")\n",
    "val_data = spark.read.json(\"/Volumes/main/fine_tuning_transformer_model/files/val_data.jsonl\")"
   ]
  },
  {
   "cell_type": "markdown",
   "metadata": {
    "application/vnd.databricks.v1+cell": {
     "cellMetadata": {
      "byteLimit": 2048000,
      "rowLimit": 10000
     },
     "inputWidgets": {},
     "nuid": "49bff376-82b4-4cc7-9433-ceb88a7ef42d",
     "showTitle": false,
     "tableResultSettingsMap": {},
     "title": ""
    }
   },
   "source": [
    "### 2. Combine training and test datasets and prepare the labels"
   ]
  },
  {
   "cell_type": "code",
   "execution_count": 0,
   "metadata": {
    "application/vnd.databricks.v1+cell": {
     "cellMetadata": {
      "byteLimit": 2048000,
      "rowLimit": 10000
     },
     "inputWidgets": {},
     "nuid": "f51ec72e-dbc7-4cc4-baf8-644ee0300bfb",
     "showTitle": false,
     "tableResultSettingsMap": {},
     "title": ""
    }
   },
   "outputs": [],
   "source": [
    "# combine training and test data\n",
    "union_df = test_data.unionAll(train_data)\n",
    "union_df.count()"
   ]
  },
  {
   "cell_type": "code",
   "execution_count": 0,
   "metadata": {
    "application/vnd.databricks.v1+cell": {
     "cellMetadata": {
      "byteLimit": 2048000,
      "rowLimit": 10000
     },
     "inputWidgets": {},
     "nuid": "b49629b0-a184-4a00-9208-5d58cbc6a1b5",
     "showTitle": false,
     "tableResultSettingsMap": {},
     "title": ""
    }
   },
   "outputs": [],
   "source": [
    "display(union_df)"
   ]
  },
  {
   "cell_type": "code",
   "execution_count": 0,
   "metadata": {
    "application/vnd.databricks.v1+cell": {
     "cellMetadata": {
      "byteLimit": 2048000,
      "rowLimit": 10000
     },
     "inputWidgets": {},
     "nuid": "d9e99d90-72b7-4e36-afe3-44cac786a243",
     "showTitle": false,
     "tableResultSettingsMap": {},
     "title": ""
    }
   },
   "outputs": [],
   "source": [
    "# create label as integer\n",
    "# some transformer models require to have labels as integer\n",
    "\n",
    "union_val_tmp = union_df.unionAll(val_data)"
   ]
  },
  {
   "cell_type": "code",
   "execution_count": 0,
   "metadata": {
    "application/vnd.databricks.v1+cell": {
     "cellMetadata": {
      "byteLimit": 2048000,
      "rowLimit": 10000
     },
     "inputWidgets": {},
     "nuid": "d5f8af9e-795f-40ec-b4d0-a1288f5e2322",
     "showTitle": false,
     "tableResultSettingsMap": {},
     "title": ""
    }
   },
   "outputs": [],
   "source": [
    "# get labels and create label id\n",
    "labels_df = union_val_tmp.select(union_val_tmp.label).groupBy(union_val_tmp.label).count()\n",
    "labels = labels_df.collect()\n",
    "\n",
    "id2label = {index: row.label for (index, row) in enumerate(labels)}\n",
    "label2id = {row.label: index for (index, row) in enumerate(labels)}"
   ]
  },
  {
   "cell_type": "code",
   "execution_count": 0,
   "metadata": {
    "application/vnd.databricks.v1+cell": {
     "cellMetadata": {
      "byteLimit": 2048000,
      "rowLimit": 10000
     },
     "inputWidgets": {},
     "nuid": "eb7bb5b8-1a8e-4bee-9048-5b1ae849bf7d",
     "showTitle": false,
     "tableResultSettingsMap": {},
     "title": ""
    }
   },
   "outputs": [],
   "source": [
    "# replace labels with ids\n",
    "@F.pandas_udf('integer')\n",
    "def replace_labels_with_ids(labels: pd.Series) -> pd.Series:\n",
    "  return labels.apply(lambda x: label2id[x])\n",
    "\n",
    "union_df = union_df.select(replace_labels_with_ids(union_df.label).alias('label_id')\n",
    "                      ,union_df.text\n",
    "                      ,union_df.label\n",
    "                      )\n",
    "\n",
    "val_data = val_data.select(replace_labels_with_ids(val_data.label).alias('label_id')\n",
    "                      ,val_data.text\n",
    "                      ,val_data.label\n",
    "                      )\n"
   ]
  },
  {
   "cell_type": "markdown",
   "metadata": {
    "application/vnd.databricks.v1+cell": {
     "cellMetadata": {
      "byteLimit": 2048000,
      "rowLimit": 10000
     },
     "inputWidgets": {},
     "nuid": "1e4efab2-6319-4ed6-96d1-55eba477f86f",
     "showTitle": false,
     "tableResultSettingsMap": {},
     "title": ""
    }
   },
   "source": [
    "### Step 3: Save processed DataFrames as Delta tables for downstream fine-tuning tasks."
   ]
  },
  {
   "cell_type": "code",
   "execution_count": 0,
   "metadata": {
    "application/vnd.databricks.v1+cell": {
     "cellMetadata": {
      "byteLimit": 2048000,
      "rowLimit": 10000
     },
     "inputWidgets": {},
     "nuid": "3428a3d1-33b8-49a0-b500-48df02a704cf",
     "showTitle": false,
     "tableResultSettingsMap": {},
     "title": ""
    }
   },
   "outputs": [],
   "source": [
    "union_df.write.mode(\"overwrite\").option(\"mergeSchema\", \"true\").saveAsTable(\"main.fine_tuning_transformer_model.train_data\")"
   ]
  },
  {
   "cell_type": "code",
   "execution_count": 0,
   "metadata": {
    "application/vnd.databricks.v1+cell": {
     "cellMetadata": {
      "byteLimit": 2048000,
      "rowLimit": 10000
     },
     "inputWidgets": {},
     "nuid": "58226157-dcda-4a80-ae3d-eb735caf28d6",
     "showTitle": false,
     "tableResultSettingsMap": {},
     "title": ""
    }
   },
   "outputs": [],
   "source": [
    "val_data.count()"
   ]
  },
  {
   "cell_type": "code",
   "execution_count": 0,
   "metadata": {
    "application/vnd.databricks.v1+cell": {
     "cellMetadata": {
      "byteLimit": 2048000,
      "rowLimit": 10000
     },
     "inputWidgets": {},
     "nuid": "d5705db9-f03e-4ea9-8720-bc5367fe4cec",
     "showTitle": false,
     "tableResultSettingsMap": {},
     "title": ""
    }
   },
   "outputs": [],
   "source": [
    "val_data.write.mode(\"overwrite\").option(\"mergeSchema\", \"true\").saveAsTable(\"main.fine_tuning_transformer_model.val_data\")"
   ]
  },
  {
   "cell_type": "code",
   "execution_count": 0,
   "metadata": {
    "application/vnd.databricks.v1+cell": {
     "cellMetadata": {
      "byteLimit": 2048000,
      "rowLimit": 10000
     },
     "inputWidgets": {},
     "nuid": "a2b3c81b-18f5-4c42-9439-fe3654cd6e56",
     "showTitle": false,
     "tableResultSettingsMap": {},
     "title": ""
    }
   },
   "outputs": [],
   "source": [
    "labels_df.write.mode(\"overwrite\").option(\"mergeSchema\", \"true\").saveAsTable(\"main.fine_tuning_transformer_model.labels\")"
   ]
  },
  {
   "cell_type": "code",
   "execution_count": 0,
   "metadata": {
    "application/vnd.databricks.v1+cell": {
     "cellMetadata": {
      "byteLimit": 2048000,
      "rowLimit": 10000
     },
     "inputWidgets": {},
     "nuid": "3441e6df-c7ad-4d93-b749-c49c7561393a",
     "showTitle": false,
     "tableResultSettingsMap": {},
     "title": ""
    }
   },
   "outputs": [],
   "source": []
  }
 ],
 "metadata": {
  "application/vnd.databricks.v1+notebook": {
   "computePreferences": {
    "hardware": {
     "accelerator": null,
     "gpuPoolId": null,
     "memory": null
    }
   },
   "dashboards": [],
   "environmentMetadata": {
    "base_environment": "",
    "dependencies": [
     "-r '/Workspace/Users/alessandro.armillotta@mitavanadeitaly.onmicrosoft.com/Databricks-Experiments/Model Fine Tuning/requirements.txt'"
    ],
    "environment_version": "3"
   },
   "inputWidgetPreferences": null,
   "language": "python",
   "notebookMetadata": {
    "pythonIndentUnit": 4
   },
   "notebookName": "01.import_data",
   "widgets": {}
  },
  "language_info": {
   "name": "python"
  }
 },
 "nbformat": 4,
 "nbformat_minor": 0
}
