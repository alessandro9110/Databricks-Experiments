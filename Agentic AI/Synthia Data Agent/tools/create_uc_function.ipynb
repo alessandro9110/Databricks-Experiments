{
 "cells": [
  {
   "cell_type": "markdown",
   "metadata": {
    "application/vnd.databricks.v1+cell": {
     "cellMetadata": {},
     "inputWidgets": {},
     "nuid": "7e50ee83-b5b9-4d77-b0dc-285fd9c6fe85",
     "showTitle": false,
     "tableResultSettingsMap": {},
     "title": ""
    }
   },
   "source": [
    "### Create a UC Function-Tool\n",
    "In this notebook we will create a python function and we will save it into Unity Catalog. After we will test it "
   ]
  },
  {
   "cell_type": "code",
   "execution_count": 0,
   "metadata": {
    "application/vnd.databricks.v1+cell": {
     "cellMetadata": {
      "byteLimit": 2048000,
      "rowLimit": 10000
     },
     "inputWidgets": {},
     "nuid": "5add4e89-3f97-4d35-837a-160735d3b202",
     "showTitle": false,
     "tableResultSettingsMap": {},
     "title": ""
    },
    "jupyter": {
     "outputs_hidden": true
    }
   },
   "outputs": [],
   "source": [
    "# Install Unity Catalog AI integration packages with the Databricks extra\n",
    "%pip install unitycatalog-ai[databricks]\n",
    "%pip install unitycatalog-langchain[databricks]\n",
    "%pip install -U -qqqq mlflow databricks-openai databricks-agents\n",
    "\n",
    "# Install the Databricks LangChain integration package\n",
    "%pip install databricks-langchain\n",
    "\n",
    "\n",
    "dbutils.library.restartPython()"
   ]
  },
  {
   "cell_type": "code",
   "execution_count": 0,
   "metadata": {
    "application/vnd.databricks.v1+cell": {
     "cellMetadata": {
      "byteLimit": 2048000,
      "rowLimit": 10000
     },
     "inputWidgets": {},
     "nuid": "f6a4e439-0833-4daa-846b-7c0e9b7840f7",
     "showTitle": false,
     "tableResultSettingsMap": {},
     "title": ""
    }
   },
   "outputs": [],
   "source": [
    "import sys\n",
    "path = '/Workspace' + '/'.join(dbutils.notebook.entry_point.getDbutils().notebook().getContext().notebookPath().get().split(\"/\")[0:-2])\n",
    "sys.path.append(path)"
   ]
  },
  {
   "cell_type": "code",
   "execution_count": 0,
   "metadata": {
    "application/vnd.databricks.v1+cell": {
     "cellMetadata": {
      "byteLimit": 2048000,
      "rowLimit": 10000
     },
     "inputWidgets": {},
     "nuid": "17196fba-5256-4079-afa4-b57b38684155",
     "showTitle": false,
     "tableResultSettingsMap": {},
     "title": ""
    }
   },
   "outputs": [],
   "source": [
    "from configs import variables"
   ]
  },
  {
   "cell_type": "code",
   "execution_count": 0,
   "metadata": {
    "application/vnd.databricks.v1+cell": {
     "cellMetadata": {
      "byteLimit": 2048000,
      "rowLimit": 10000
     },
     "inputWidgets": {},
     "nuid": "b91ba442-13d6-47c2-8a27-dde0a1df5c1b",
     "showTitle": false,
     "tableResultSettingsMap": {},
     "title": ""
    }
   },
   "outputs": [],
   "source": [
    "from unitycatalog.ai.core.databricks import DatabricksFunctionClient\n",
    "\n",
    "client = DatabricksFunctionClient()"
   ]
  },
  {
   "cell_type": "code",
   "execution_count": 0,
   "metadata": {
    "application/vnd.databricks.v1+cell": {
     "cellMetadata": {
      "byteLimit": 2048000,
      "rowLimit": 10000
     },
     "collapsed": true,
     "inputWidgets": {},
     "nuid": "11f36fff-8736-465f-995f-afd903a17f40",
     "showTitle": true,
     "tableResultSettingsMap": {},
     "title": "add_numbers"
    }
   },
   "outputs": [],
   "source": [
    "def add_numbers(number_1: float, number_2: float) -> float:\n",
    "  \"\"\"\n",
    "  A function that accepts two floating point numbers adds them,\n",
    "  and returns the resulting sum as a float.\n",
    "\n",
    "  Args:\n",
    "    number_1 (float): The first of the two numbers to add.\n",
    "    number_2 (float): The second of the two numbers to add.\n",
    "\n",
    "  Returns:\n",
    "    float: The sum of the two input numbers.\n",
    "  \"\"\"\n",
    "  return number_1 + number_2\n",
    "\n",
    "function_info = client.create_python_function(\n",
    "  func=add_numbers,\n",
    "  catalog=variables.CATALOG_NAME,\n",
    "  schema=variables.SCHEMA_NAME,\n",
    "  replace=True\n",
    ")"
   ]
  },
  {
   "cell_type": "code",
   "execution_count": 0,
   "metadata": {
    "application/vnd.databricks.v1+cell": {
     "cellMetadata": {
      "byteLimit": 2048000,
      "rowLimit": 10000
     },
     "collapsed": true,
     "inputWidgets": {},
     "nuid": "2cd8ca32-51a8-4929-bcc0-0ca946f2b064",
     "showTitle": true,
     "tableResultSettingsMap": {},
     "title": "subtract_numbers"
    }
   },
   "outputs": [],
   "source": [
    "def subtract_numbers(number_1: float, number_2: float) -> float:\n",
    "    \"\"\"\n",
    "    A function that subtracts one number from another.\n",
    "\n",
    "    Args:\n",
    "        number_1 (float): The number from which to subtract.\n",
    "        number_2 (float): The number to subtract.\n",
    "\n",
    "    Returns:\n",
    "        float: The result of the subtraction.\n",
    "    \"\"\"\n",
    "    return number_1 - number_2\n",
    "\n",
    "function_info = client.create_python_function(\n",
    "  func=subtract_numbers,\n",
    "  catalog=variables.CATALOG_NAME,\n",
    "  schema=variables.SCHEMA_NAME,\n",
    "  replace=True\n",
    ")"
   ]
  },
  {
   "cell_type": "code",
   "execution_count": 0,
   "metadata": {
    "application/vnd.databricks.v1+cell": {
     "cellMetadata": {
      "byteLimit": 2048000,
      "rowLimit": 10000
     },
     "collapsed": true,
     "inputWidgets": {},
     "nuid": "a1c580dc-5856-4589-89d3-85c9c6b905c5",
     "showTitle": true,
     "tableResultSettingsMap": {},
     "title": "multiply_numbers"
    }
   },
   "outputs": [],
   "source": [
    "def multiply_numbers(number_1: float, number_2: float) -> float:\n",
    "    \"\"\"\n",
    "    A function that multiplies two numbers.\n",
    "\n",
    "    Args:\n",
    "        number_1 (float): The first of the two numbers to multiply.\n",
    "        number_2 (float): The second of the two numbers to multiply.\n",
    "\n",
    "    Returns:\n",
    "        float: The product of the two input numbers.\n",
    "    \"\"\"\n",
    "    return number_1 * number_2\n",
    "\n",
    "function_info = client.create_python_function(\n",
    "  func=multiply_numbers,\n",
    "  catalog=variables.CATALOG_NAME,\n",
    "  schema=variables.SCHEMA_NAME,\n",
    "  replace=True\n",
    ")"
   ]
  },
  {
   "cell_type": "code",
   "execution_count": 0,
   "metadata": {
    "application/vnd.databricks.v1+cell": {
     "cellMetadata": {
      "byteLimit": 2048000,
      "rowLimit": 10000
     },
     "collapsed": true,
     "inputWidgets": {},
     "nuid": "3aaf9b28-90b3-4061-b05a-de03203f72a1",
     "showTitle": true,
     "tableResultSettingsMap": {},
     "title": "divide_numbers"
    }
   },
   "outputs": [],
   "source": [
    "def divide_numbers(number_1: float, number_2: float) -> float:\n",
    "    \"\"\"\n",
    "    A function that divides one number by another.\n",
    "\n",
    "    Args:\n",
    "        number_1 (float): The numerator.\n",
    "        number_2 (float): The denominator.\n",
    "\n",
    "    Returns:\n",
    "        float: The quotient of the two input numbers.\n",
    "\n",
    "    Raises:\n",
    "        ValueError: If division by zero is attempted.\n",
    "    \"\"\"\n",
    "    if number_2 == 0:\n",
    "        raise ValueError(\"Division by zero is not allowed.\")\n",
    "    return number_1 / number_2\n",
    "\n",
    "function_info = client.create_python_function(\n",
    "  func=divide_numbers,\n",
    "  catalog=variables.CATALOG_NAME,\n",
    "  schema=variables.SCHEMA_NAME,\n",
    "  replace=True\n",
    ")"
   ]
  },
  {
   "cell_type": "code",
   "execution_count": 0,
   "metadata": {
    "application/vnd.databricks.v1+cell": {
     "cellMetadata": {
      "byteLimit": 2048000,
      "rowLimit": 10000
     },
     "collapsed": true,
     "inputWidgets": {},
     "nuid": "32e6bbb2-4c0f-4740-aa91-0ecb2dbabaec",
     "showTitle": true,
     "tableResultSettingsMap": {},
     "title": "average_numbers"
    }
   },
   "outputs": [],
   "source": [
    "def average_numbers(numbers: list[float]) -> float:\n",
    "    \"\"\"\n",
    "    A function that calculates the average of a list of numbers.\n",
    "\n",
    "    Args:\n",
    "        numbers (list[float]): A list of numeric values.\n",
    "\n",
    "    Returns:\n",
    "        float: The average of the provided numbers.\n",
    "\n",
    "    Raises:\n",
    "        ValueError: If the list of numbers is empty.\n",
    "    \"\"\"\n",
    "    if not numbers:\n",
    "        raise ValueError(\"List of numbers cannot be empty.\")\n",
    "    return sum(numbers) / len(numbers)\n",
    "\n",
    "function_info = client.create_python_function(\n",
    "  func=average_numbers,\n",
    "  catalog=variables.CATALOG_NAME,\n",
    "  schema=variables.SCHEMA_NAME,\n",
    "  replace=True\n",
    ")"
   ]
  },
  {
   "cell_type": "code",
   "execution_count": 0,
   "metadata": {
    "application/vnd.databricks.v1+cell": {
     "cellMetadata": {
      "byteLimit": 2048000,
      "implicitDf": true,
      "rowLimit": 10000
     },
     "inputWidgets": {},
     "nuid": "291920ae-2cd2-49b2-88ee-d89e1f09ab46",
     "showTitle": true,
     "tableResultSettingsMap": {},
     "title": "list catalogs"
    }
   },
   "outputs": [],
   "source": [
    "%sql\n",
    "CREATE OR REPLACE FUNCTION agentic_ai.synthia_data_agent.list_catalogs() \n",
    "RETURNS ARRAY<STRING> \n",
    "COMMENT 'Returns a list of available catalog names'\n",
    "RETURN \n",
    "SELECT COLLECT_LIST(catalog_name) \n",
    "FROM system.information_schema.catalogs\n",
    "WHERE catalog_name NOT IN ('information_schema', 'system')"
   ]
  },
  {
   "cell_type": "markdown",
   "metadata": {
    "application/vnd.databricks.v1+cell": {
     "cellMetadata": {},
     "inputWidgets": {},
     "nuid": "a2bd6d37-b074-465c-998c-ab79b94ea6fc",
     "showTitle": false,
     "tableResultSettingsMap": {},
     "title": ""
    }
   },
   "source": [
    "### Test Function"
   ]
  },
  {
   "cell_type": "code",
   "execution_count": 0,
   "metadata": {
    "application/vnd.databricks.v1+cell": {
     "cellMetadata": {
      "byteLimit": 2048000,
      "rowLimit": 10000
     },
     "inputWidgets": {},
     "nuid": "3764a2f4-279d-47d6-938b-462cbe2a511c",
     "showTitle": false,
     "tableResultSettingsMap": {},
     "title": ""
    }
   },
   "outputs": [],
   "source": [
    "result = client.execute_function(\n",
    "  function_name=f\"{variables.CATALOG_NAME}.{variables.SCHEMA_NAME}.list_catalogs\",\n",
    "  parameters={}\n",
    ")\n",
    "\n",
    "result.value"
   ]
  },
  {
   "cell_type": "code",
   "execution_count": null,
   "metadata": {},
   "outputs": [],
   "source": [
    "print(\"Available catalogs:\")\n",
    "result = client.execute_function(\n",
    "    function_name=f\"{variables.CATALOG_NAME}.{variables.SCHEMA_NAME}.list_catalogs\",\n",
    "    parameters={}\n",
    ")\n",
    "\n",
    "# Print the list of catalog names\n",
    "for catalog_name in result.value:\n",
    "    print(f\"- {catalog_name}\")"
   ]
  },
  {
   "cell_type": "code",
   "execution_count": 0,
   "metadata": {
    "application/vnd.databricks.v1+cell": {
     "cellMetadata": {
      "byteLimit": 2048000,
      "rowLimit": 10000
     },
     "inputWidgets": {},
     "nuid": "8dab5912-d84b-4850-9c4f-c31a89f3d653",
     "showTitle": false,
     "tableResultSettingsMap": {},
     "title": ""
    }
   },
   "outputs": [],
   "source": [
    "result"
   ]
  },
  {
   "cell_type": "markdown",
   "metadata": {
    "application/vnd.databricks.v1+cell": {
     "cellMetadata": {},
     "inputWidgets": {},
     "nuid": "5a646a66-2b71-4a52-8b61-2f1d62af11c2",
     "showTitle": false,
     "tableResultSettingsMap": {},
     "title": ""
    }
   },
   "source": [
    "###  Agent Tool\n",
    "Wrap the function using the UCFunctionToolkit to make it accessible to agent authoring libraries. The toolkit ensures consistency across different gen AI libraries and adds helpful features like auto-tracing for retrievers."
   ]
  },
  {
   "cell_type": "code",
   "execution_count": 0,
   "metadata": {
    "application/vnd.databricks.v1+cell": {
     "cellMetadata": {
      "byteLimit": 2048000,
      "rowLimit": 10000
     },
     "inputWidgets": {},
     "nuid": "d4bc85f5-487e-4478-bde5-a1c62b79d6f7",
     "showTitle": false,
     "tableResultSettingsMap": {},
     "title": ""
    }
   },
   "outputs": [],
   "source": [
    "from langchain.agents import AgentExecutor, create_tool_calling_agent\n",
    "from langchain.prompts import ChatPromptTemplate\n",
    "from databricks_langchain import (\n",
    "  ChatDatabricks,\n",
    "  UCFunctionToolkit,\n",
    ")\n",
    "import mlflow\n",
    "\n",
    "# Initialize the LLM (optional: replace with your LLM of choice)\n",
    "LLM_ENDPOINT_NAME = \"databricks-meta-llama-3-3-70b-instruct\"\n",
    "llm = ChatDatabricks(endpoint=LLM_ENDPOINT_NAME, temperature=0.1)\n",
    "\n",
    "# Define the prompt\n",
    "prompt = ChatPromptTemplate.from_messages(\n",
    "  [\n",
    "    (\n",
    "      \"system\",\n",
    "      \"You are a helpful assistant. Make sure to use tools for additional functionality.\",\n",
    "    ),\n",
    "    (\"placeholder\", \"{chat_history}\"),\n",
    "    (\"human\", \"{input}\"),\n",
    "    (\"placeholder\", \"{agent_scratchpad}\"),\n",
    "  ]\n",
    ")\n",
    "\n",
    "# Enable automatic tracing\n",
    "mlflow.langchain.autolog()\n",
    "\n",
    "# Define the agent, specifying the tools from the toolkit above\n",
    "agent = create_tool_calling_agent(llm, tools, prompt)\n",
    "\n",
    "# Create the agent executor\n",
    "agent_executor = AgentExecutor(agent=agent, tools=tools, verbose=True)\n",
    "agent_executor.invoke({\"input\": \"What is 36939.0 + 8922.4?\"})"
   ]
  },
  {
   "cell_type": "code",
   "execution_count": 0,
   "metadata": {
    "application/vnd.databricks.v1+cell": {
     "cellMetadata": {},
     "inputWidgets": {},
     "nuid": "22503ca4-8bc5-4259-be29-325a8d3accf7",
     "showTitle": false,
     "tableResultSettingsMap": {},
     "title": ""
    }
   },
   "outputs": [],
   "source": []
  }
 ],
 "metadata": {
  "application/vnd.databricks.v1+notebook": {
   "computePreferences": null,
   "dashboards": [],
   "environmentMetadata": {
    "base_environment": "",
    "environment_version": "3"
   },
   "inputWidgetPreferences": null,
   "language": "python",
   "notebookMetadata": {
    "mostRecentlyExecutedCommandWithImplicitDF": {
     "commandId": 4994267436522684,
     "dataframes": [
      "_sqldf"
     ]
    },
    "pythonIndentUnit": 4
   },
   "notebookName": "create_uc_function",
   "widgets": {}
  },
  "language_info": {
   "name": "python"
  }
 },
 "nbformat": 4,
 "nbformat_minor": 0
}
